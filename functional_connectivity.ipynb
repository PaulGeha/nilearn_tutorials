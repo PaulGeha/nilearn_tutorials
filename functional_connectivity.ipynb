{
 "cells": [
  {
   "cell_type": "markdown",
   "metadata": {},
   "source": [
    "# Estimating functional connectivity on ABIDE dataset\n",
    "\n",
    "First, we download the preprocessed time series extracted using Craddock 200 atlas from Preprocessed Connectome Project."
   ]
  },
  {
   "cell_type": "code",
   "execution_count": 3,
   "metadata": {
    "collapsed": false
   },
   "outputs": [
    {
     "data": {
      "text/plain": [
       "dict_keys(['description', 'rois_cc200', 'phenotypic'])"
      ]
     },
     "execution_count": 3,
     "metadata": {},
     "output_type": "execute_result"
    }
   ],
   "source": [
    "from nilearn.datasets.func import fetch_abide_pcp\n",
    "\n",
    "\n",
    "abide = fetch_abide_pcp(n_subjects=None, quality_checked=True,\n",
    "                        band_pass_filtering=True, pipeline='niak',\n",
    "                        derivatives='rois_cc200')\n",
    "abide.keys()"
   ]
  },
  {
   "cell_type": "markdown",
   "metadata": {},
   "source": [
    "We compute the connectivity matric for each of the subjects. We use the \"tangent\" method provided by nilearn."
   ]
  },
  {
   "cell_type": "code",
   "execution_count": 5,
   "metadata": {
    "collapsed": false
   },
   "outputs": [
    {
     "data": {
      "text/plain": [
       "(871, 200, 200)"
      ]
     },
     "execution_count": 5,
     "metadata": {},
     "output_type": "execute_result"
    }
   ],
   "source": [
    "from nilearn.connectome import ConnectivityMeasure\n",
    "\n",
    "\n",
    "conn_est = ConnectivityMeasure(kind=\"tangent\")\n",
    "conn_matrices = conn_est.fit_transform(abide.rois_cc200)\n",
    "conn_matrices.shape"
   ]
  },
  {
   "cell_type": "markdown",
   "metadata": {},
   "source": [
    "We have connectivity matrices but we only want the values for the lower (or upper) triangular part. Fortunately, a function in nilearn does that for free."
   ]
  },
  {
   "cell_type": "code",
   "execution_count": 7,
   "metadata": {
    "collapsed": false
   },
   "outputs": [
    {
     "data": {
      "text/plain": [
       "(871, 20100)"
      ]
     },
     "execution_count": 7,
     "metadata": {},
     "output_type": "execute_result"
    }
   ],
   "source": [
    "from nilearn.connectome import sym_to_vec\n",
    "\n",
    "\n",
    "X = sym_to_vec(conn_matrices)\n",
    "X.shape"
   ]
  },
  {
   "cell_type": "markdown",
   "metadata": {
    "collapsed": true
   },
   "source": [
    "## Preparing cross-validation\n",
    "\n",
    "The cross-validation scheme is very important. Here we chose to take 20 balanced folds with randomly picked subjects."
   ]
  },
  {
   "cell_type": "code",
   "execution_count": 8,
   "metadata": {
    "collapsed": true
   },
   "outputs": [],
   "source": [
    "from sklearn.cross_validation import StratifiedShuffleSplit\n",
    "\n",
    "\n",
    "id = [str(sid) + str(dx) for sid, dx in abide.phenotypic[['SITE_ID', 'DX_GROUP']]]\n",
    "cv = StratifiedShuffleSplit(id, n_iter=20, test_size=.2)"
   ]
  },
  {
   "cell_type": "markdown",
   "metadata": {},
   "source": [
    "## Prediction\n",
    "\n",
    "We use a classifier to diagnose autistic vs. healthy participants."
   ]
  },
  {
   "cell_type": "code",
   "execution_count": null,
   "metadata": {
    "collapsed": true
   },
   "outputs": [],
   "source": [
    "from sklearn.svm import LinearSVC\n",
    "from sklearn.cross_validation import cross_val_score\n",
    "\n",
    "\n",
    "y = abide.phenotypic['DX_GROUP']\n",
    "pred = LinearSVC(C=0.01)\n",
    "np.mean(cross_val_score(pred, X, y, cv=cv))"
   ]
  }
 ],
 "metadata": {
  "kernelspec": {
   "display_name": "Python 3",
   "language": "python",
   "name": "python3"
  },
  "language_info": {
   "codemirror_mode": {
    "name": "ipython",
    "version": 3
   },
   "file_extension": ".py",
   "mimetype": "text/x-python",
   "name": "python",
   "nbconvert_exporter": "python",
   "pygments_lexer": "ipython3",
   "version": "3.4.3"
  }
 },
 "nbformat": 4,
 "nbformat_minor": 0
}
