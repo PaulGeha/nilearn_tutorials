{
 "cells": [
  {
   "cell_type": "markdown",
   "metadata": {},
   "source": [
    "# General introduction\n",
    "\n",
    "## What can we do with Nilearn ?\n",
    "\n",
    "- Decoding and MultiVariate Pattern Analysis (MVPA)\n",
    "- Functional connectivity analysis\n",
    "- Extracting resting state networks (ICA, Dictionary Learning, ...)\n",
    "- Plotting brain images\n",
    "- Manipulating brain volumes\n",
    "- Downloading (open) datasets: atlases, cohorts ...\n",
    "\n"
   ]
  },
  {
   "cell_type": "markdown",
   "metadata": {},
   "source": [
    "# Installing Nilearn\n",
    "\n",
    "##  1. Install dependencies\n",
    "\n",
    "It is recommended to install a complete scientific Python distribution like [**64-bit Anaconda**](https://store.continuum.io/cshop/anaconda/)\n",
    "\n",
    "## 2. In a Terminal/Command prompt, install Nilearn\n",
    "\n",
    "- Open Terminal/Command prompt\n",
    "\n",
    "- **`pip install -U --user nilearn`**\n",
    "\n",
    "## 3. Open IPython\n",
    "\n",
    "- In Terminal/Command prompt:\n",
    "\n",
    "- **`ipython`**\n",
    "\n",
    "- in IPython:\n",
    "\n",
    "- *In [1]:* **`import nilearn`**"
   ]
  },
  {
   "cell_type": "markdown",
   "metadata": {},
   "source": [
    "# Setting the dataset folder\n",
    "\n",
    "**nilearn_data**: Where is the downloaded data stored?\n",
    "\n",
    "The fetching functions download the reference datasets to the disk. They save it **locally for future use**, in one of the following directories (in order of priority, if present):\n",
    "\n",
    "-        the folder specified by **`data_dir` parameter** in the fetching function\n",
    "-        the global environment variable **`NILEARN_SHARED_DATA`**\n",
    "-        the user environment variable **`NILEARN_DATA`**\n",
    "-        the **`nilearn_data`** folder in the **user home** folder\n",
    "\n",
    "The two different environment variables (NILEARN_SHARED_DATA and NILEARN_DATA) are provided for multi-user systems, to distinguish a global dataset repository that may be read-only at the user-level. \n",
    "\n",
    "You can copy that folder to another user’s computers to avoid the initial dataset download on the first fetching call.\n",
    "\n",
    "You can check in which directory nilearn will store the data with the function **`nilearn.datasets.get_data_dirs`**.\n"
   ]
  }
 ],
 "metadata": {
  "kernelspec": {
   "display_name": "Python 2",
   "language": "python",
   "name": "python2"
  },
  "language_info": {
   "codemirror_mode": {
    "name": "ipython",
    "version": 2
   },
   "file_extension": ".py",
   "mimetype": "text/x-python",
   "name": "python",
   "nbconvert_exporter": "python",
   "pygments_lexer": "ipython2",
   "version": "2.7.11"
  }
 },
 "nbformat": 4,
 "nbformat_minor": 0
}
