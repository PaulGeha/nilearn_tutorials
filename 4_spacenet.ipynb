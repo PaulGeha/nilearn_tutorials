{
 "cells": [
  {
   "cell_type": "markdown",
   "metadata": {},
   "source": [
    "# Crash course on Nilearn and MVPA (Multi-Variate Pattern Analysis)\n",
    "In this lesson, we will cover some popular methods in MVPA in the context of brain imaging. Namely,\n",
    "* Search Light\n",
    "* Space-Net"
   ]
  },
  {
   "cell_type": "markdown",
   "metadata": {},
   "source": [
    "Load Haxby 2001 data"
   ]
  },
  {
   "cell_type": "code",
   "execution_count": 1,
   "metadata": {
    "collapsed": true
   },
   "outputs": [],
   "source": [
    "from nilearn.datasets import fetch_haxby\n",
    "data_files = fetch_haxby()"
   ]
  },
  {
   "cell_type": "code",
   "execution_count": 2,
   "metadata": {
    "collapsed": false
   },
   "outputs": [],
   "source": [
    "# Load Target labels\n",
    "import numpy as np\n",
    "labels = np.recfromcsv(data_files.session_target[0], delimiter=\" \")\n"
   ]
  },
  {
   "cell_type": "code",
   "execution_count": 3,
   "metadata": {
    "collapsed": false
   },
   "outputs": [
    {
     "data": {
      "text/plain": [
       "rec.array([('rest', 0), ('rest', 0), ('rest', 0), ..., ('rest', 11), ('rest', 11),\n",
       " ('rest', 11)], \n",
       "          dtype=[('labels', 'S12'), ('chunks', '<i8')])"
      ]
     },
     "execution_count": 3,
     "metadata": {},
     "output_type": "execute_result"
    }
   ],
   "source": [
    "labels"
   ]
  },
  {
   "cell_type": "markdown",
   "metadata": {},
   "source": [
    "Restrict to face and house conditions"
   ]
  },
  {
   "cell_type": "code",
   "execution_count": 4,
   "metadata": {
    "collapsed": true
   },
   "outputs": [],
   "source": [
    "target = labels['labels']\n",
    "condition_mask = np.logical_or(target == b\"face\", target == b\"house\")"
   ]
  },
  {
   "cell_type": "markdown",
   "metadata": {
    "collapsed": false
   },
   "source": [
    "Split data into train and test pools"
   ]
  },
  {
   "cell_type": "code",
   "execution_count": 33,
   "metadata": {
    "collapsed": true
   },
   "outputs": [],
   "source": [
    "condition_mask_train = np.logical_and(condition_mask, labels['chunks'] <= 6)\n",
    "condition_mask_test = np.logical_and(condition_mask, labels['chunks'] > 6)\n",
    "from nilearn.image import index_img\n",
    "from nilearn.masking import compute_epi_mask\n",
    "func_filenames = data_files.func[0]\n",
    "X_train = index_img(func_filenames, condition_mask_train)\n",
    "X_test = index_img(func_filenames, condition_mask_test)\n",
    "y_train = target[condition_mask_train]\n",
    "y_test = target[condition_mask_test]"
   ]
  },
  {
   "cell_type": "markdown",
   "metadata": {},
   "source": [
    "Compute brain mask and background EPI image"
   ]
  },
  {
   "cell_type": "code",
   "execution_count": 34,
   "metadata": {
    "collapsed": true
   },
   "outputs": [],
   "source": [
    "from nilearn.image import mean_img\n",
    "mask_img = compute_epi_mask(func_filenames)\n",
    "background_img = mean_img(func_filenames)\n",
    "background_img.to_filename(\"bg_img.nii.gz\")"
   ]
  },
  {
   "cell_type": "markdown",
   "metadata": {},
   "source": [
    "Search Light\n",
    "============"
   ]
  },
  {
   "cell_type": "markdown",
   "metadata": {},
   "source": [
    "Prepare masks\n",
    "\n",
    "* mask_img is the original mask\n",
    "* process_mask_img is a subset of mask_img, it contains the voxels that should be processed (we only keep the slice z = 26 and the back of the brain to speed up computation)"
   ]
  },
  {
   "cell_type": "code",
   "execution_count": 25,
   "metadata": {
    "collapsed": false
   },
   "outputs": [],
   "source": [
    "from nilearn.decoding import SearchLight\n",
    "from nilearn.image import new_img_like\n",
    "process_mask = mask_img.get_data().astype(np.int)\n",
    "picked_slice = 27\n",
    "process_mask[..., (picked_slice + 1):] = 0\n",
    "process_mask[..., :picked_slice] = 0\n",
    "process_mask[:, 30:] = 0\n",
    "process_mask_img = new_img_like(mask_img, process_mask)\n"
   ]
  },
  {
   "cell_type": "markdown",
   "metadata": {},
   "source": [
    "Now, fit a SearchLight model on your data"
   ]
  },
  {
   "cell_type": "code",
   "execution_count": 26,
   "metadata": {
    "collapsed": false
   },
   "outputs": [
    {
     "name": "stderr",
     "output_type": "stream",
     "text": [
      "[Parallel(n_jobs=1)]: Done   1 out of   1 | elapsed:    8.7s finished\n"
     ]
    },
    {
     "data": {
      "text/plain": [
       "SearchLight(cv=None, estimator='svc',\n",
       "      mask_img=<nibabel.nifti1.Nifti1Image object at 0x7f23c3991090>,\n",
       "      n_jobs=1,\n",
       "      process_mask_img=<nibabel.nifti1.Nifti1Image object at 0x7f2384b5ded0>,\n",
       "      radius=5.6, scoring=None, verbose=1)"
      ]
     },
     "execution_count": 26,
     "metadata": {},
     "output_type": "execute_result"
    }
   ],
   "source": [
    "searchlight = SearchLight(mask_img, process_mask_img=process_mask_img, radius=5.6, verbose=1)\n",
    "searchlight.fit(X_train, y_train)"
   ]
  },
  {
   "cell_type": "markdown",
   "metadata": {},
   "source": [
    "Plot the model coefficients to see whats really going on."
   ]
  },
  {
   "cell_type": "code",
   "execution_count": 27,
   "metadata": {
    "collapsed": true
   },
   "outputs": [],
   "source": [
    "%matplotlib inline"
   ]
  },
  {
   "cell_type": "code",
   "execution_count": 32,
   "metadata": {
    "collapsed": false
   },
   "outputs": [
    {
     "data": {
      "text/plain": [
       "<nilearn.plotting.displays.YZSlicer at 0x7f237ffb10d0>"
      ]
     },
     "execution_count": 32,
     "metadata": {},
     "output_type": "execute_result"
    },
    {
     "data": {
      "image/png": "[encoded data removed]",
      "text/plain": [
       "<matplotlib.figure.Figure at 0x7f2384e2e210>"
      ]
     },
     "metadata": {},
     "output_type": "display_data"
    }
   ],
   "source": [
    "from nilearn.plotting import plot_stat_map, show\n",
    "coef_img = new_img_like(background_img, searchlight.scores_)\n",
    "plot_stat_map(coef_img, background_img,\n",
    "              title=\"Search Light\",\n",
    "              cut_coords=(-34, -16), display_mode=\"yz\")"
   ]
  },
  {
   "cell_type": "markdown",
   "metadata": {},
   "source": [
    "SpaceNet\n",
    "========\n",
    "* This is a family of priors which simultaneously impose sparsity and structure on the maps of regressor coefficients.\n",
    "* It includes GraphNet, TV-L1, Sparse-Variation, etc.\n",
    "\n",
    "![caption](haxby_comp.png)\n",
    "\n",
    "\n",
    "\n",
    "Formally, the model is\n",
    "\\begin{equation}\n",
    "\\text{minimize}_{\\bf{w} \\in \\mathbb R^p}\\mathcal L(y, X\\bf{w}) + \\alpha (\\rho \\|\\bf{w}\\|_1 + (1-\\rho) \\Omega(\\bf{w}))\n",
    "\\end{equation}\n",
    "where\n",
    "* $\\bf{w} \\in \\mathbb R^p$ is the vector of model coefficients and $p$ is the number of voxels in the brain mask (say, $p \\sim 10^6$ in a full brain mask!)\n",
    "* $\\mathcal L(y, X\\bf{w})$ is the loss term. For example $\\mathcal L(y, X\\bf{w}) = \\frac{1}{2}\\|X\\bf{w} - y\\|_2^2$ in regression settings, equals the logistic loss in classification settings, etc.\n",
    "* $\\alpha > 0$ is the regularization parameter and controls and controls the relative importance of the penalty and loss terms. $\\rho \\in [0, 1]$ is a mixing parameter and controls the tradeoff between sparsity and structure. For example  $\\rho = 1$ corresponds to the classical LASSO.\n",
    "* The penalty term $\\|\\bf{w}\\|_1$ induces sparsity on the model coefficients $\\bf{w}$: all coefficients are forced to zero, except the most \"predictive\" ones!\n",
    "* $\\Omega(\\bf{w})$ is a structure inducing penalty on the model coefficients:\n",
    "\n",
    "For example \\begin{equation}\\Omega(\\bf{w}) = \\frac{1}{2}\\|\\nabla \\bf{w}\\|_F^2 := \\sum_{j=1}^p|(\\nabla_x \\bf{w})_j|^2 + |(\\nabla_y \\bf{w})_j|^2 + |(\\nabla_z \\bf{w})_j|^2\\end{equation} in GraphNet / S-Lasso and for TV-L1, we have\n",
    "\\begin{equation}\\Omega(\\bf{w}) = \\|\\bf{w}\\|_{TV} := \\sum_{j=1}^p\\sqrt{|(\\nabla_x \\bf{w})_j|^2 + |(\\nabla_y \\bf{w})_j|^2 + |(\\nabla_z \\bf{w})_j|^2}\\end{equation}\n",
    "\n",
    "* GraphNet is Tikhonov regularization on the spatial gradient of the model coefficients $\\bf{w}$. It will produce smooth blobs, but no sharp edges.\n",
    "* TV semi-norm promotes smooth blobs with sharp edges (i.e has a segmentation property, which is a very good thing). However, the resulting model is much harder to optimize than GraphNet."
   ]
  },
  {
   "cell_type": "markdown",
   "metadata": {},
   "source": [
    "**GraphNet / S-Lasso**"
   ]
  },
  {
   "cell_type": "code",
   "execution_count": 8,
   "metadata": {
    "collapsed": true
   },
   "outputs": [],
   "source": [
    "from nilearn.decoding import SpaceNetClassifier\n"
   ]
  },
  {
   "cell_type": "code",
   "execution_count": 31,
   "metadata": {
    "collapsed": false
   },
   "outputs": [
    {
     "name": "stderr",
     "output_type": "stream",
     "text": [
      "/home/elvis/anaconda2/lib/python2.7/site-packages/sklearn/externals/joblib/hashing.py:197: DeprecationWarning: Changing the shape of non-C contiguous array by\n",
      "descriptor assignment is deprecated. To maintain\n",
      "the Fortran contiguity of a multidimensional Fortran\n",
      "array, use 'a.T.view(...).T' instead\n",
      "  obj_bytes_view = obj.view(self.np.uint8)\n",
      "/home/elvis/anaconda2/lib/python2.7/site-packages/sklearn/externals/joblib/hashing.py:197: DeprecationWarning: Changing the shape of non-C contiguous array by\n",
      "descriptor assignment is deprecated. To maintain\n",
      "the Fortran contiguity of a multidimensional Fortran\n",
      "array, use 'a.T.view(...).T' instead\n",
      "  obj_bytes_view = obj.view(self.np.uint8)\n"
     ]
    },
    {
     "name": "stdout",
     "output_type": "stream",
     "text": [
      "Time Elapsed: 0.465225 seconds, 0 minutes.\n",
      "Graph-net classification accuracy : 97.7778%\n"
     ]
    },
    {
     "name": "stderr",
     "output_type": "stream",
     "text": [
      "[Parallel(n_jobs=1)]: Done   8 out of   8 | elapsed:    0.2s finished\n",
      "/home/elvis/anaconda2/lib/python2.7/site-packages/sklearn/externals/joblib/hashing.py:197: DeprecationWarning: Changing the shape of non-C contiguous array by\n",
      "descriptor assignment is deprecated. To maintain\n",
      "the Fortran contiguity of a multidimensional Fortran\n",
      "array, use 'a.T.view(...).T' instead\n",
      "  obj_bytes_view = obj.view(self.np.uint8)\n"
     ]
    }
   ],
   "source": [
    "decoder = SpaceNetClassifier(memory=\"nilearn_cache\", memory_level=2, penalty='graph-net', verbose=1, loss=\"mse\")\n",
    "decoder.fit(X_train, y_train)\n",
    "y_pred = decoder.predict(X_test)\n",
    "accuracy = (y_pred == y_test).mean() * 100.\n",
    "print(\"Graph-net classification accuracy : %g%%\" % accuracy)"
   ]
  },
  {
   "cell_type": "code",
   "execution_count": null,
   "metadata": {
    "collapsed": false
   },
   "outputs": [],
   "source": []
  },
  {
   "cell_type": "code",
   "execution_count": 12,
   "metadata": {
    "collapsed": false
   },
   "outputs": [
    {
     "data": {
      "text/plain": [
       "<nilearn.plotting.displays.YZSlicer at 0x7f2384f04f50>"
      ]
     },
     "execution_count": 12,
     "metadata": {},
     "output_type": "execute_result"
    },
    {
     "data": {
      "image/png": "[encoded data removed]",
      "text/plain": [
       "<matplotlib.figure.Figure at 0x7f2384fb2fd0>"
      ]
     },
     "metadata": {},
     "output_type": "display_data"
    }
   ],
   "source": [
    "from nilearn.plotting import plot_stat_map, show\n",
    "coef_img = decoder.coef_img_\n",
    "plot_stat_map(coef_img, background_img,\n",
    "              title=\"graph-net: accuracy %g%%\" % accuracy,\n",
    "              cut_coords=(-34, -16), display_mode=\"yz\")\n",
    "\n"
   ]
  },
  {
   "cell_type": "markdown",
   "metadata": {},
   "source": [
    "**TV-L1**"
   ]
  },
  {
   "cell_type": "code",
   "execution_count": 13,
   "metadata": {
    "collapsed": true
   },
   "outputs": [],
   "source": [
    "decoder = SpaceNetClassifier(memory=\"nilearn_cache\", memory_level=2, penalty='tv-l1', loss=\"mse\", verbose=1)"
   ]
  },
  {
   "cell_type": "code",
   "execution_count": 14,
   "metadata": {
    "collapsed": false
   },
   "outputs": [
    {
     "name": "stderr",
     "output_type": "stream",
     "text": [
      "/home/elvis/anaconda2/lib/python2.7/site-packages/sklearn/externals/joblib/hashing.py:197: DeprecationWarning: Changing the shape of non-C contiguous array by\n",
      "descriptor assignment is deprecated. To maintain\n",
      "the Fortran contiguity of a multidimensional Fortran\n",
      "array, use 'a.T.view(...).T' instead\n",
      "  obj_bytes_view = obj.view(self.np.uint8)\n",
      "/home/elvis/anaconda2/lib/python2.7/site-packages/sklearn/externals/joblib/hashing.py:197: DeprecationWarning: Changing the shape of non-C contiguous array by\n",
      "descriptor assignment is deprecated. To maintain\n",
      "the Fortran contiguity of a multidimensional Fortran\n",
      "array, use 'a.T.view(...).T' instead\n",
      "  obj_bytes_view = obj.view(self.np.uint8)\n"
     ]
    },
    {
     "name": "stdout",
     "output_type": "stream",
     "text": [
      "Time Elapsed: 0.42116 seconds, 0 minutes.\n",
      "Graph-net classification accuracy : 97.7778%\n"
     ]
    },
    {
     "name": "stderr",
     "output_type": "stream",
     "text": [
      "[Parallel(n_jobs=1)]: Done   8 out of   8 | elapsed:    0.2s finished\n",
      "/home/elvis/anaconda2/lib/python2.7/site-packages/sklearn/externals/joblib/hashing.py:197: DeprecationWarning: Changing the shape of non-C contiguous array by\n",
      "descriptor assignment is deprecated. To maintain\n",
      "the Fortran contiguity of a multidimensional Fortran\n",
      "array, use 'a.T.view(...).T' instead\n",
      "  obj_bytes_view = obj.view(self.np.uint8)\n"
     ]
    }
   ],
   "source": [
    "decoder.fit(X_train, y_train)\n",
    "y_pred = decoder.predict(X_test)\n",
    "accuracy = (y_pred == y_test).mean() * 100.\n",
    "print(\"Graph-net classification accuracy : %g%%\" % accuracy)"
   ]
  },
  {
   "cell_type": "code",
   "execution_count": 15,
   "metadata": {
    "collapsed": false
   },
   "outputs": [
    {
     "data": {
      "text/plain": [
       "<nilearn.plotting.displays.YZSlicer at 0x7f2384ba6f10>"
      ]
     },
     "execution_count": 15,
     "metadata": {},
     "output_type": "execute_result"
    },
    {
     "data": {
      "image/png": "[encoded data removed]",
      "text/plain": [
       "<matplotlib.figure.Figure at 0x7f2384f34e10>"
      ]
     },
     "metadata": {},
     "output_type": "display_data"
    }
   ],
   "source": [
    "from nilearn.plotting import plot_stat_map, show\n",
    "coef_img = decoder.coef_img_\n",
    "plot_stat_map(coef_img, background_img,\n",
    "              title=\"graph-net: accuracy %g%%\" % accuracy,\n",
    "              cut_coords=(-34, -16), display_mode=\"yz\")"
   ]
  },
  {
   "cell_type": "code",
   "execution_count": null,
   "metadata": {
    "collapsed": true
   },
   "outputs": [],
   "source": [
    "\n"
   ]
  }
 ],
 "metadata": {
  "kernelspec": {
   "display_name": "Python 2",
   "language": "python",
   "name": "python2"
  },
  "language_info": {
   "codemirror_mode": {
    "name": "ipython",
    "version": 2
   },
   "file_extension": ".py",
   "mimetype": "text/x-python",
   "name": "python",
   "nbconvert_exporter": "python",
   "pygments_lexer": "ipython2",
   "version": "2.7.11"
  }
 },
 "nbformat": 4,
 "nbformat_minor": 0
}
